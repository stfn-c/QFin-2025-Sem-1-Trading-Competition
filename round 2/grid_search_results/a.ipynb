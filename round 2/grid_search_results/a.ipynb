{
 "cells": [
  {
   "cell_type": "code",
   "execution_count": 2,
   "metadata": {},
   "outputs": [
    {
     "data": {
      "application/vnd.plotly.v1+json": {
       "config": {
        "plotlyServerURL": "https://plot.ly"
       },
       "data": [
        {
         "customdata": {
          "bdata": "DyENIQ4hDyUQJRAhDyMQIw8hDxoNJRAjDyMOJQ8cDhwQGg4jDhoNGg4jECEPHw0jDSMNHw8dDxoQGg4fDhoQHBAfDRoNHA0hDiEOHQ8WEB0NHRAWDhYNFg8WDxIOEg0SDxQQEhAWDxYPFg4WDhYPEg4UEBQQFhAUDRYOFA4SDhAPEA0WDRQQFA8UEBINEg0QEBANFA4UEBYQFA0QDhYQEA4UDxQOEA8UEA4NFA8ODRYPEA0OEA4ODg0UEA4ODg4ODw4PDg0ODQ4NDBAODg4QDA8ODgwNDg8MEBAOEA0QDw4QDg8QDg4NDg0OEA4PDg4O",
          "dtype": "i1",
          "shape": "120, 2"
         },
         "hovertemplate": "leader_window=%{x}<br>threshold_pct=%{y}<br>pnl=%{marker.color}<br>follower_window=%{customdata[0]}<br>trades=%{customdata[1]}<extra></extra>",
         "legendgroup": "",
         "marker": {
          "color": {
           "bdata": "Is8QX/VUwkDmng9TIPnBQDpOm/kZh8FA5DMz3yFswUBSxBnXeTTBQE4rYMv59MBAzrrKoQarwEDgv7JUxiPAQGg3na8yHsBAErSGKHALwECoukpmO+a/QBRMYm7Dzr9AnIFk32KUv0CUjm6aT1G/QPQIvm3iBb9AjCEX/bSMvkCQIuWgzHe+QKBhIOxRSL5AKNawYAU4vkBkWAblMzS+QNiEPK8I4L1ArNhm7t/WvUAAMxXmg3i9QGzaRNjBdr1APC1yaDNHvUDs4P2Va0O9QChJR4LE9bxAxN479mz1vEDcfCFGRvS8QPgzZ04p2bxAKF+WL5SzvECkwMNRPqi8QMzlApoEkrxAZJn7mgh7vEA4S0hHyFW8QNANI5nvMLxAQBU7WEtJu0Agybr8E/e5QHS+piXT9LlAGCxJLLPtuUCkJQE6EFa5QBh9lKG8TLlANNqgeihAuUBcKWJ3o4G4QMBdJRZmQrhAPCLFkPcauEC0VLLzSdq3QDwjG4qQq7dAaEHqsaZ7t0CIMBA5RHC3QDy0+lJrCrdAgAljcubptkBocfGph+S2QBQISSOt47ZAtO0b5kXAtkDUrwItUqu2QFSwVwN9j7ZA+J1VJkiHtkBA/0mtL3K2QHCSCX/IYrZAcLvVpu5ItkDsgL8BxzS2QBgaL4agB7ZANK8z7j8BtkC4lRiO4+21QDwgGTI57LVA2IpNfbzYtUAsg0tf9NO1QPiHsYzwvrVAaJNyqDmgtUDc9LWmj4S1QPz3vHyXQbVATF1CnbcxtUCoUfL7WyG1QOigU/J1BbVAwFtgd8v8tEB0wrhqX7q0QLCrkr+InrRAyKlO/Fh2tECcvpxDVGy0QEQ7WCyya7RA1BLqQGFgtEBMg8afqFS0QMwlsLh9SrRArI5hldYDtECYDAkK6O6zQFR3ZraktrNAXC5JoRuss0BoNogdwoCzQLgaOGFDArNAnHxjLuhnskDs6OLWE0CyQEwXBdBdJ7JAeKCVIN8HskB0JZ2IUYKxQLzQXVFW97BAdADRKWXqsEBgR2PQfuKwQAzzqcPsxrBAqKE3l3eesECgZtZ8d2ywQEgPTkDVCLBACfWQfqb0r0Co17PjrGyvQLmNWJpMRa9AsKdohlc8r0BQyEnudnGuQN/pg6na6K1AQSLi8D+ArUBwnPg6cM6sQCAKyihXx6xAwCCQyNPQq0Aw/ruaMjeqQKCeA0VVJapAgIXSwRskqkBAnL3nv7OnQLguU9ThI6RA8BM9VNQFpEBYjtOh27ijQKhbjiI0wKFA",
           "dtype": "f8"
          },
          "coloraxis": "coloraxis",
          "symbol": "circle"
         },
         "mode": "markers",
         "name": "",
         "scene": "scene",
         "showlegend": false,
         "type": "scatter3d",
         "x": {
          "bdata": "JiYmHh4mIiIgJh4kJB4iIiYiJiYkIB4iJB4gJCQeJCIeJCIgICAiICAiIiIeHh4eJh4eICQeJCAmIiQmHiIgJCQkJiYiICAkJCImICQmICYkJiYkHiYeICYeHh4kIB4gHiAkHiYkJCYkJiAmIiIiICAiICAiIiIi",
          "dtype": "i1"
         },
         "y": {
          "bdata": "ZmZmZmZm9j9mZmZmZmb2P2ZmZmZmZvY/ZmZmZmZm9j9mZmZmZmb2P2ZmZmZmZvY/ZmZmZmZm9j9mZmZmZmb2P2ZmZmZmZvY/mpmZmZmZ+T9mZmZmZmb2P2ZmZmZmZvY/ZmZmZmZm9j9mZmZmZmb2P5qZmZmZmfk/mpmZmZmZ+T+amZmZmZn5P2ZmZmZmZvY/mpmZmZmZ+T+amZmZmZn5P2ZmZmZmZvY/ZmZmZmZm9j+amZmZmZn5P2ZmZmZmZvY/ZmZmZmZm9j+amZmZmZn5P5qZmZmZmfk/mpmZmZmZ+T+amZmZmZn5P5qZmZmZmfk/mpmZmZmZ+T+amZmZmZn5P5qZmZmZmfk/mpmZmZmZ+T+amZmZmZn5P2ZmZmZmZvY/ZmZmZmZm9j+amZmZmZn5P83MzMzMzPw/mpmZmZmZ+T+amZmZmZn5P83MzMzMzPw/zczMzMzM/D/NzMzMzMz8P83MzMzMzPw/AAAAAAAAAEAAAAAAAAAAQAAAAAAAAABAzczMzMzM/D8AAAAAAAAAQM3MzMzMzPw/zczMzMzM/D/NzMzMzMz8P83MzMzMzPw/zczMzMzM/D8AAAAAAAAAQM3MzMzMzPw/AAAAAAAAAEDNzMzMzMz8P83MzMzMzPw/zczMzMzM/D8AAAAAAAAAQAAAAAAAAABAmpmZmZmZAUCamZmZmZkBQM3MzMzMzPw/zczMzMzM/D8AAAAAAAAAQAAAAAAAAABAAAAAAAAAAEAAAAAAAAAAQJqZmZmZmQFAmpmZmZmZAUAAAAAAAAAAQAAAAAAAAABAzczMzMzM/D8AAAAAAAAAQJqZmZmZmQFAzczMzMzM/D+amZmZmZkBQAAAAAAAAABAAAAAAAAAAECamZmZmZkBQAAAAAAAAABAMzMzMzMzA0AAAAAAAAAAQDMzMzMzMwNAzczMzMzM/D+amZmZmZkBQDMzMzMzMwNAmpmZmZmZAUAzMzMzMzMDQAAAAAAAAABAmpmZmZmZAUCamZmZmZkBQJqZmZmZmQFAmpmZmZmZAUCamZmZmZkBQDMzMzMzMwNAmpmZmZmZAUAzMzMzMzMDQDMzMzMzMwNAMzMzMzMzA0AzMzMzMzMDQDMzMzMzMwNAMzMzMzMzA0CamZmZmZkBQDMzMzMzMwNAmpmZmZmZAUCamZmZmZkBQJqZmZmZmQFAMzMzMzMzA0AzMzMzMzMDQJqZmZmZmQFAMzMzMzMzA0AzMzMzMzMDQDMzMzMzMwNAMzMzMzMzA0AzMzMzMzMDQDMzMzMzMwNA",
          "dtype": "f8"
         },
         "z": {
          "bdata": "Is8QX/VUwkDmng9TIPnBQDpOm/kZh8FA5DMz3yFswUBSxBnXeTTBQE4rYMv59MBAzrrKoQarwEDgv7JUxiPAQGg3na8yHsBAErSGKHALwECoukpmO+a/QBRMYm7Dzr9AnIFk32KUv0CUjm6aT1G/QPQIvm3iBb9AjCEX/bSMvkCQIuWgzHe+QKBhIOxRSL5AKNawYAU4vkBkWAblMzS+QNiEPK8I4L1ArNhm7t/WvUAAMxXmg3i9QGzaRNjBdr1APC1yaDNHvUDs4P2Va0O9QChJR4LE9bxAxN479mz1vEDcfCFGRvS8QPgzZ04p2bxAKF+WL5SzvECkwMNRPqi8QMzlApoEkrxAZJn7mgh7vEA4S0hHyFW8QNANI5nvMLxAQBU7WEtJu0Agybr8E/e5QHS+piXT9LlAGCxJLLPtuUCkJQE6EFa5QBh9lKG8TLlANNqgeihAuUBcKWJ3o4G4QMBdJRZmQrhAPCLFkPcauEC0VLLzSdq3QDwjG4qQq7dAaEHqsaZ7t0CIMBA5RHC3QDy0+lJrCrdAgAljcubptkBocfGph+S2QBQISSOt47ZAtO0b5kXAtkDUrwItUqu2QFSwVwN9j7ZA+J1VJkiHtkBA/0mtL3K2QHCSCX/IYrZAcLvVpu5ItkDsgL8BxzS2QBgaL4agB7ZANK8z7j8BtkC4lRiO4+21QDwgGTI57LVA2IpNfbzYtUAsg0tf9NO1QPiHsYzwvrVAaJNyqDmgtUDc9LWmj4S1QPz3vHyXQbVATF1CnbcxtUCoUfL7WyG1QOigU/J1BbVAwFtgd8v8tEB0wrhqX7q0QLCrkr+InrRAyKlO/Fh2tECcvpxDVGy0QEQ7WCyya7RA1BLqQGFgtEBMg8afqFS0QMwlsLh9SrRArI5hldYDtECYDAkK6O6zQFR3ZraktrNAXC5JoRuss0BoNogdwoCzQLgaOGFDArNAnHxjLuhnskDs6OLWE0CyQEwXBdBdJ7JAeKCVIN8HskB0JZ2IUYKxQLzQXVFW97BAdADRKWXqsEBgR2PQfuKwQAzzqcPsxrBAqKE3l3eesECgZtZ8d2ywQEgPTkDVCLBACfWQfqb0r0Co17PjrGyvQLmNWJpMRa9AsKdohlc8r0BQyEnudnGuQN/pg6na6K1AQSLi8D+ArUBwnPg6cM6sQCAKyihXx6xAwCCQyNPQq0Aw/ruaMjeqQKCeA0VVJapAgIXSwRskqkBAnL3nv7OnQLguU9ThI6RA8BM9VNQFpEBYjtOh27ijQKhbjiI0wKFA",
          "dtype": "f8"
         }
        }
       ],
       "layout": {
        "coloraxis": {
         "colorbar": {
          "title": {
           "text": "pnl"
          }
         },
         "colorscale": [
          [
           0,
           "#0d0887"
          ],
          [
           0.1111111111111111,
           "#46039f"
          ],
          [
           0.2222222222222222,
           "#7201a8"
          ],
          [
           0.3333333333333333,
           "#9c179e"
          ],
          [
           0.4444444444444444,
           "#bd3786"
          ],
          [
           0.5555555555555556,
           "#d8576b"
          ],
          [
           0.6666666666666666,
           "#ed7953"
          ],
          [
           0.7777777777777778,
           "#fb9f3a"
          ],
          [
           0.8888888888888888,
           "#fdca26"
          ],
          [
           1,
           "#f0f921"
          ]
         ]
        },
        "legend": {
         "tracegroupgap": 0
        },
        "scene": {
         "domain": {
          "x": [
           0,
           1
          ],
          "y": [
           0,
           1
          ]
         },
         "xaxis": {
          "title": {
           "text": "Leader Window"
          }
         },
         "yaxis": {
          "title": {
           "text": "Threshold Pct"
          }
         },
         "zaxis": {
          "title": {
           "text": "PnL"
          }
         }
        },
        "template": {
         "data": {
          "bar": [
           {
            "error_x": {
             "color": "#2a3f5f"
            },
            "error_y": {
             "color": "#2a3f5f"
            },
            "marker": {
             "line": {
              "color": "#E5ECF6",
              "width": 0.5
             },
             "pattern": {
              "fillmode": "overlay",
              "size": 10,
              "solidity": 0.2
             }
            },
            "type": "bar"
           }
          ],
          "barpolar": [
           {
            "marker": {
             "line": {
              "color": "#E5ECF6",
              "width": 0.5
             },
             "pattern": {
              "fillmode": "overlay",
              "size": 10,
              "solidity": 0.2
             }
            },
            "type": "barpolar"
           }
          ],
          "carpet": [
           {
            "aaxis": {
             "endlinecolor": "#2a3f5f",
             "gridcolor": "white",
             "linecolor": "white",
             "minorgridcolor": "white",
             "startlinecolor": "#2a3f5f"
            },
            "baxis": {
             "endlinecolor": "#2a3f5f",
             "gridcolor": "white",
             "linecolor": "white",
             "minorgridcolor": "white",
             "startlinecolor": "#2a3f5f"
            },
            "type": "carpet"
           }
          ],
          "choropleth": [
           {
            "colorbar": {
             "outlinewidth": 0,
             "ticks": ""
            },
            "type": "choropleth"
           }
          ],
          "contour": [
           {
            "colorbar": {
             "outlinewidth": 0,
             "ticks": ""
            },
            "colorscale": [
             [
              0,
              "#0d0887"
             ],
             [
              0.1111111111111111,
              "#46039f"
             ],
             [
              0.2222222222222222,
              "#7201a8"
             ],
             [
              0.3333333333333333,
              "#9c179e"
             ],
             [
              0.4444444444444444,
              "#bd3786"
             ],
             [
              0.5555555555555556,
              "#d8576b"
             ],
             [
              0.6666666666666666,
              "#ed7953"
             ],
             [
              0.7777777777777778,
              "#fb9f3a"
             ],
             [
              0.8888888888888888,
              "#fdca26"
             ],
             [
              1,
              "#f0f921"
             ]
            ],
            "type": "contour"
           }
          ],
          "contourcarpet": [
           {
            "colorbar": {
             "outlinewidth": 0,
             "ticks": ""
            },
            "type": "contourcarpet"
           }
          ],
          "heatmap": [
           {
            "colorbar": {
             "outlinewidth": 0,
             "ticks": ""
            },
            "colorscale": [
             [
              0,
              "#0d0887"
             ],
             [
              0.1111111111111111,
              "#46039f"
             ],
             [
              0.2222222222222222,
              "#7201a8"
             ],
             [
              0.3333333333333333,
              "#9c179e"
             ],
             [
              0.4444444444444444,
              "#bd3786"
             ],
             [
              0.5555555555555556,
              "#d8576b"
             ],
             [
              0.6666666666666666,
              "#ed7953"
             ],
             [
              0.7777777777777778,
              "#fb9f3a"
             ],
             [
              0.8888888888888888,
              "#fdca26"
             ],
             [
              1,
              "#f0f921"
             ]
            ],
            "type": "heatmap"
           }
          ],
          "histogram": [
           {
            "marker": {
             "pattern": {
              "fillmode": "overlay",
              "size": 10,
              "solidity": 0.2
             }
            },
            "type": "histogram"
           }
          ],
          "histogram2d": [
           {
            "colorbar": {
             "outlinewidth": 0,
             "ticks": ""
            },
            "colorscale": [
             [
              0,
              "#0d0887"
             ],
             [
              0.1111111111111111,
              "#46039f"
             ],
             [
              0.2222222222222222,
              "#7201a8"
             ],
             [
              0.3333333333333333,
              "#9c179e"
             ],
             [
              0.4444444444444444,
              "#bd3786"
             ],
             [
              0.5555555555555556,
              "#d8576b"
             ],
             [
              0.6666666666666666,
              "#ed7953"
             ],
             [
              0.7777777777777778,
              "#fb9f3a"
             ],
             [
              0.8888888888888888,
              "#fdca26"
             ],
             [
              1,
              "#f0f921"
             ]
            ],
            "type": "histogram2d"
           }
          ],
          "histogram2dcontour": [
           {
            "colorbar": {
             "outlinewidth": 0,
             "ticks": ""
            },
            "colorscale": [
             [
              0,
              "#0d0887"
             ],
             [
              0.1111111111111111,
              "#46039f"
             ],
             [
              0.2222222222222222,
              "#7201a8"
             ],
             [
              0.3333333333333333,
              "#9c179e"
             ],
             [
              0.4444444444444444,
              "#bd3786"
             ],
             [
              0.5555555555555556,
              "#d8576b"
             ],
             [
              0.6666666666666666,
              "#ed7953"
             ],
             [
              0.7777777777777778,
              "#fb9f3a"
             ],
             [
              0.8888888888888888,
              "#fdca26"
             ],
             [
              1,
              "#f0f921"
             ]
            ],
            "type": "histogram2dcontour"
           }
          ],
          "mesh3d": [
           {
            "colorbar": {
             "outlinewidth": 0,
             "ticks": ""
            },
            "type": "mesh3d"
           }
          ],
          "parcoords": [
           {
            "line": {
             "colorbar": {
              "outlinewidth": 0,
              "ticks": ""
             }
            },
            "type": "parcoords"
           }
          ],
          "pie": [
           {
            "automargin": true,
            "type": "pie"
           }
          ],
          "scatter": [
           {
            "fillpattern": {
             "fillmode": "overlay",
             "size": 10,
             "solidity": 0.2
            },
            "type": "scatter"
           }
          ],
          "scatter3d": [
           {
            "line": {
             "colorbar": {
              "outlinewidth": 0,
              "ticks": ""
             }
            },
            "marker": {
             "colorbar": {
              "outlinewidth": 0,
              "ticks": ""
             }
            },
            "type": "scatter3d"
           }
          ],
          "scattercarpet": [
           {
            "marker": {
             "colorbar": {
              "outlinewidth": 0,
              "ticks": ""
             }
            },
            "type": "scattercarpet"
           }
          ],
          "scattergeo": [
           {
            "marker": {
             "colorbar": {
              "outlinewidth": 0,
              "ticks": ""
             }
            },
            "type": "scattergeo"
           }
          ],
          "scattergl": [
           {
            "marker": {
             "colorbar": {
              "outlinewidth": 0,
              "ticks": ""
             }
            },
            "type": "scattergl"
           }
          ],
          "scattermap": [
           {
            "marker": {
             "colorbar": {
              "outlinewidth": 0,
              "ticks": ""
             }
            },
            "type": "scattermap"
           }
          ],
          "scattermapbox": [
           {
            "marker": {
             "colorbar": {
              "outlinewidth": 0,
              "ticks": ""
             }
            },
            "type": "scattermapbox"
           }
          ],
          "scatterpolar": [
           {
            "marker": {
             "colorbar": {
              "outlinewidth": 0,
              "ticks": ""
             }
            },
            "type": "scatterpolar"
           }
          ],
          "scatterpolargl": [
           {
            "marker": {
             "colorbar": {
              "outlinewidth": 0,
              "ticks": ""
             }
            },
            "type": "scatterpolargl"
           }
          ],
          "scatterternary": [
           {
            "marker": {
             "colorbar": {
              "outlinewidth": 0,
              "ticks": ""
             }
            },
            "type": "scatterternary"
           }
          ],
          "surface": [
           {
            "colorbar": {
             "outlinewidth": 0,
             "ticks": ""
            },
            "colorscale": [
             [
              0,
              "#0d0887"
             ],
             [
              0.1111111111111111,
              "#46039f"
             ],
             [
              0.2222222222222222,
              "#7201a8"
             ],
             [
              0.3333333333333333,
              "#9c179e"
             ],
             [
              0.4444444444444444,
              "#bd3786"
             ],
             [
              0.5555555555555556,
              "#d8576b"
             ],
             [
              0.6666666666666666,
              "#ed7953"
             ],
             [
              0.7777777777777778,
              "#fb9f3a"
             ],
             [
              0.8888888888888888,
              "#fdca26"
             ],
             [
              1,
              "#f0f921"
             ]
            ],
            "type": "surface"
           }
          ],
          "table": [
           {
            "cells": {
             "fill": {
              "color": "#EBF0F8"
             },
             "line": {
              "color": "white"
             }
            },
            "header": {
             "fill": {
              "color": "#C8D4E3"
             },
             "line": {
              "color": "white"
             }
            },
            "type": "table"
           }
          ]
         },
         "layout": {
          "annotationdefaults": {
           "arrowcolor": "#2a3f5f",
           "arrowhead": 0,
           "arrowwidth": 1
          },
          "autotypenumbers": "strict",
          "coloraxis": {
           "colorbar": {
            "outlinewidth": 0,
            "ticks": ""
           }
          },
          "colorscale": {
           "diverging": [
            [
             0,
             "#8e0152"
            ],
            [
             0.1,
             "#c51b7d"
            ],
            [
             0.2,
             "#de77ae"
            ],
            [
             0.3,
             "#f1b6da"
            ],
            [
             0.4,
             "#fde0ef"
            ],
            [
             0.5,
             "#f7f7f7"
            ],
            [
             0.6,
             "#e6f5d0"
            ],
            [
             0.7,
             "#b8e186"
            ],
            [
             0.8,
             "#7fbc41"
            ],
            [
             0.9,
             "#4d9221"
            ],
            [
             1,
             "#276419"
            ]
           ],
           "sequential": [
            [
             0,
             "#0d0887"
            ],
            [
             0.1111111111111111,
             "#46039f"
            ],
            [
             0.2222222222222222,
             "#7201a8"
            ],
            [
             0.3333333333333333,
             "#9c179e"
            ],
            [
             0.4444444444444444,
             "#bd3786"
            ],
            [
             0.5555555555555556,
             "#d8576b"
            ],
            [
             0.6666666666666666,
             "#ed7953"
            ],
            [
             0.7777777777777778,
             "#fb9f3a"
            ],
            [
             0.8888888888888888,
             "#fdca26"
            ],
            [
             1,
             "#f0f921"
            ]
           ],
           "sequentialminus": [
            [
             0,
             "#0d0887"
            ],
            [
             0.1111111111111111,
             "#46039f"
            ],
            [
             0.2222222222222222,
             "#7201a8"
            ],
            [
             0.3333333333333333,
             "#9c179e"
            ],
            [
             0.4444444444444444,
             "#bd3786"
            ],
            [
             0.5555555555555556,
             "#d8576b"
            ],
            [
             0.6666666666666666,
             "#ed7953"
            ],
            [
             0.7777777777777778,
             "#fb9f3a"
            ],
            [
             0.8888888888888888,
             "#fdca26"
            ],
            [
             1,
             "#f0f921"
            ]
           ]
          },
          "colorway": [
           "#636efa",
           "#EF553B",
           "#00cc96",
           "#ab63fa",
           "#FFA15A",
           "#19d3f3",
           "#FF6692",
           "#B6E880",
           "#FF97FF",
           "#FECB52"
          ],
          "font": {
           "color": "#2a3f5f"
          },
          "geo": {
           "bgcolor": "white",
           "lakecolor": "white",
           "landcolor": "#E5ECF6",
           "showlakes": true,
           "showland": true,
           "subunitcolor": "white"
          },
          "hoverlabel": {
           "align": "left"
          },
          "hovermode": "closest",
          "mapbox": {
           "style": "light"
          },
          "paper_bgcolor": "white",
          "plot_bgcolor": "#E5ECF6",
          "polar": {
           "angularaxis": {
            "gridcolor": "white",
            "linecolor": "white",
            "ticks": ""
           },
           "bgcolor": "#E5ECF6",
           "radialaxis": {
            "gridcolor": "white",
            "linecolor": "white",
            "ticks": ""
           }
          },
          "scene": {
           "xaxis": {
            "backgroundcolor": "#E5ECF6",
            "gridcolor": "white",
            "gridwidth": 2,
            "linecolor": "white",
            "showbackground": true,
            "ticks": "",
            "zerolinecolor": "white"
           },
           "yaxis": {
            "backgroundcolor": "#E5ECF6",
            "gridcolor": "white",
            "gridwidth": 2,
            "linecolor": "white",
            "showbackground": true,
            "ticks": "",
            "zerolinecolor": "white"
           },
           "zaxis": {
            "backgroundcolor": "#E5ECF6",
            "gridcolor": "white",
            "gridwidth": 2,
            "linecolor": "white",
            "showbackground": true,
            "ticks": "",
            "zerolinecolor": "white"
           }
          },
          "shapedefaults": {
           "line": {
            "color": "#2a3f5f"
           }
          },
          "ternary": {
           "aaxis": {
            "gridcolor": "white",
            "linecolor": "white",
            "ticks": ""
           },
           "baxis": {
            "gridcolor": "white",
            "linecolor": "white",
            "ticks": ""
           },
           "bgcolor": "#E5ECF6",
           "caxis": {
            "gridcolor": "white",
            "linecolor": "white",
            "ticks": ""
           }
          },
          "title": {
           "x": 0.05
          },
          "xaxis": {
           "automargin": true,
           "gridcolor": "white",
           "linecolor": "white",
           "ticks": "",
           "title": {
            "standoff": 15
           },
           "zerolinecolor": "white",
           "zerolinewidth": 2
          },
          "yaxis": {
           "automargin": true,
           "gridcolor": "white",
           "linecolor": "white",
           "ticks": "",
           "title": {
            "standoff": 15
           },
           "zerolinecolor": "white",
           "zerolinewidth": 2
          }
         }
        },
        "title": {
         "text": "Interactive 3D Scatter Plot of Grid Search Results"
        }
       }
      }
     },
     "metadata": {},
     "output_type": "display_data"
    }
   ],
   "source": [
    "import pandas as pd\n",
    "import plotly.express as px\n",
    "import io\n",
    "\n",
    "# CSV data provided by the user\n",
    "csv_data = \"\"\"leader_window,follower_window,threshold_pct,pnl,trades\n",
    "38,15,1.4,9385.916963673724,33\n",
    "38,13,1.4,9202.252534821117,33\n",
    "38,14,1.4,8974.20292989082,33\n",
    "30,15,1.4,8920.26462402376,37\n",
    "30,16,1.4,8808.951876850948,37\n",
    "38,16,1.4,8681.951519032616,33\n",
    "34,15,1.4,8534.051812497342,35\n",
    "34,16,1.4,8263.549459785165,35\n",
    "32,15,1.4,8252.39598431783,33\n",
    "38,15,1.6,8214.876236761022,26\n",
    "30,13,1.4,8166.232029600687,37\n",
    "36,16,1.4,8142.763403075765,35\n",
    "36,15,1.4,8084.386221200602,35\n",
    "30,14,1.4,8017.310950193223,37\n",
    "34,15,1.6,7941.884487034975,28\n",
    "34,14,1.6,7820.70698685235,28\n",
    "38,16,1.6,7799.799330063761,26\n",
    "34,14,1.4,7752.3200092542975,35\n",
    "38,14,1.6,7736.02100663403,26\n",
    "38,13,1.6,7732.202713390903,26\n",
    "36,14,1.4,7648.033923895295,35\n",
    "32,16,1.4,7638.8747314719185,33\n",
    "30,15,1.6,7544.515229535056,31\n",
    "34,13,1.4,7542.757206252409,35\n",
    "36,13,1.4,7495.200812469524,35\n",
    "30,13,1.6,7491.420257441914,31\n",
    "32,15,1.6,7413.767612891541,29\n",
    "36,15,1.6,7413.42563223065,26\n",
    "36,16,1.6,7412.274507611259,26\n",
    "30,14,1.6,7385.161352586925,31\n",
    "36,14,1.6,7347.578851125938,26\n",
    "34,16,1.6,7336.243435129672,28\n",
    "30,16,1.6,7314.017975026229,31\n",
    "36,13,1.6,7291.0336148499955,26\n",
    "34,13,1.6,7253.782337683071,28\n",
    "32,13,1.4,7216.935930434105,33\n",
    "32,14,1.4,6985.294315045059,33\n",
    "32,14,1.6,6647.078075098136,29\n",
    "34,15,1.8,6644.82479326391,22\n",
    "32,16,1.6,6637.699894498124,29\n",
    "32,13,1.6,6486.063385078134,29\n",
    "34,16,1.8,6476.736840515652,22\n",
    "34,14,1.8,6464.158121159813,22\n",
    "34,13,1.8,6273.638540396783,22\n",
    "30,15,1.8,6210.398775420559,22\n",
    "30,15,2.0,6170.967052765711,18\n",
    "30,14,2.0,6106.28887476509,18\n",
    "30,13,2.0,6059.56460733042,18\n",
    "38,15,1.8,6011.6511522683795,20\n",
    "30,16,2.0,6000.26649571595,18\n",
    "30,16,1.8,5898.419234913828,22\n",
    "32,15,1.8,5865.900182905025,22\n",
    "36,15,1.8,5860.529936876475,22\n",
    "30,14,1.8,5859.676319660637,22\n",
    "36,14,1.8,5824.273042436154,22\n",
    "32,15,2.0,5803.320999305655,18\n",
    "38,14,1.8,5775.488332253026,20\n",
    "34,16,2.0,5767.281834937159,20\n",
    "36,16,1.8,5746.186237931077,22\n",
    "38,16,1.8,5730.783188436748,20\n",
    "30,13,1.8,5704.932233198415,22\n",
    "34,14,2.0,5684.777370423293,20\n",
    "32,14,2.0,5639.627047485228,18\n",
    "36,14,2.2,5633.249728422426,16\n",
    "36,15,2.2,5613.8888869634175,16\n",
    "36,13,1.8,5612.223420687074,22\n",
    "38,13,1.8,5592.7362869705175,20\n",
    "38,16,2.0,5587.95457908585,20\n",
    "34,15,2.0,5566.939646812149,20\n",
    "32,16,2.0,5536.225226555813,18\n",
    "32,13,2.0,5508.561137554436,18\n",
    "36,13,2.2,5441.591747103255,16\n",
    "36,16,2.2,5425.717243335512,16\n",
    "34,13,2.0,5409.359313149391,20\n",
    "38,14,2.0,5381.460728861603,20\n",
    "32,16,1.8,5372.794790289307,22\n",
    "36,16,2.0,5306.37272219417,20\n",
    "38,13,2.2,5278.534173170963,16\n",
    "32,14,1.8,5238.347599903536,22\n",
    "38,16,2.2,5228.3291566815715,16\n",
    "36,14,2.0,5227.695989145726,20\n",
    "38,15,2.0,5216.379896764371,20\n",
    "38,14,2.2,5204.6586879797505,16\n",
    "36,15,2.0,5194.491099366405,20\n",
    "30,16,2.4,5123.838216874439,14\n",
    "38,13,2.0,5102.906403127265,20\n",
    "30,15,2.4,5046.643408207066,14\n",
    "32,13,1.8,5036.107929776972,22\n",
    "38,15,2.2,4992.758263123782,16\n",
    "30,13,2.4,4866.26320219662,14\n",
    "30,16,2.2,4711.90695783417,14\n",
    "30,14,2.4,4672.07749765574,14\n",
    "36,13,2.0,4647.366455381572,20\n",
    "32,16,2.2,4615.871590949704,14\n",
    "30,14,2.2,4482.318490811962,14\n",
    "32,14,2.2,4343.337179053746,14\n",
    "30,15,2.2,4330.395169317828,14\n",
    "32,15,2.2,4322.495367245603,14\n",
    "36,13,2.4,4294.924860593641,14\n",
    "30,13,2.2,4254.467151143042,14\n",
    "38,13,2.4,4204.466748619132,12\n",
    "36,16,2.4,4104.83301246522,14\n",
    "36,14,2.4,4090.3251843737708,14\n",
    "38,16,2.4,4022.33767473228,12\n",
    "36,15,2.4,4002.6496150658604,14\n",
    "38,14,2.4,3998.17094733283,12\n",
    "32,13,2.2,3896.7322867447874,14\n",
    "38,15,2.4,3828.4270745490066,12\n",
    "34,16,2.2,3776.1248846689996,16\n",
    "34,14,2.2,3687.2191999140705,16\n",
    "34,13,2.2,3683.670233072029,16\n",
    "32,15,2.4,3560.4136395492533,14\n",
    "32,16,2.4,3355.5988367793834,14\n",
    "34,15,2.2,3346.666542161096,16\n",
    "32,14,2.4,3346.0542131221737,14\n",
    "32,13,2.4,3033.8748149159655,14\n",
    "34,13,2.4,2577.941073035672,14\n",
    "34,16,2.4,2562.9147051894033,14\n",
    "34,15,2.4,2524.4289690123805,14\n",
    "34,14,2.4,2272.101826142014,14\n",
    "\"\"\"\n",
    "\n",
    "# Read the data using pandas\n",
    "# The use of io.StringIO is to simulate reading from a file\n",
    "df = pd.read_csv(io.StringIO(csv_data))\n",
    "\n",
    "# Create the interactive 3D scatter plot using Plotly Express\n",
    "fig = px.scatter_3d(\n",
    "    df,\n",
    "    x=\"leader_window\",\n",
    "    y=\"threshold_pct\",\n",
    "    z=\"pnl\",\n",
    "    color=\"pnl\",\n",
    "    hover_data=[\"follower_window\", \"trades\"],  # Show these on hover\n",
    "    title=\"Interactive 3D Scatter Plot of Grid Search Results\",\n",
    ")\n",
    "\n",
    "# Update layout for better axis titles if needed (Plotly usually does a good job by default)\n",
    "fig.update_layout(\n",
    "    scene=dict(\n",
    "        xaxis_title=\"Leader Window\", yaxis_title=\"Threshold Pct\", zaxis_title=\"PnL\"\n",
    "    )\n",
    ")\n",
    "\n",
    "# Show plot\n",
    "# This will typically open in your default web browser\n",
    "fig.show()\n",
    "\n",
    "# If you want to save the plot to an HTML file:\n",
    "# fig.write_html('interactive_grid_search_3d_plot.html')\n",
    "# print(\"Plot saved to interactive_grid_search_3d_plot.html\")\n"
   ]
  }
 ],
 "metadata": {
  "kernelspec": {
   "display_name": "Python 3",
   "language": "python",
   "name": "python3"
  },
  "language_info": {
   "codemirror_mode": {
    "name": "ipython",
    "version": 3
   },
   "file_extension": ".py",
   "mimetype": "text/x-python",
   "name": "python",
   "nbconvert_exporter": "python",
   "pygments_lexer": "ipython3",
   "version": "3.9.6"
  }
 },
 "nbformat": 4,
 "nbformat_minor": 2
}
